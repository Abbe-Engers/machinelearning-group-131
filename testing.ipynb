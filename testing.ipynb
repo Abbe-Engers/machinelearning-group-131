{
 "cells": [
  {
   "cell_type": "code",
   "execution_count": 1,
   "metadata": {},
   "outputs": [
    {
     "name": "stderr",
     "output_type": "stream",
     "text": [
      "/Users/heifen/Documents/studie/machinelearning/venv/lib/python3.12/site-packages/tqdm/auto.py:21: TqdmWarning: IProgress not found. Please update jupyter and ipywidgets. See https://ipywidgets.readthedocs.io/en/stable/user_install.html\n",
      "  from .autonotebook import tqdm as notebook_tqdm\n"
     ]
    },
    {
     "name": "stdout",
     "output_type": "stream",
     "text": [
      "Loading and preprocessing data...\n",
      "Class distribution:\n",
      "is_fraud\n",
      "0    1289169\n",
      "1       7506\n",
      "Name: count, dtype: int64\n",
      "Fraud percentage: 0.58%\n"
     ]
    }
   ],
   "source": [
    "from main import load_and_preprocess_data\n",
    "\n",
    "df = load_and_preprocess_data()"
   ]
  },
  {
   "cell_type": "code",
   "execution_count": 10,
   "metadata": {},
   "outputs": [
    {
     "name": "stdout",
     "output_type": "stream",
     "text": [
      "Bin edges:\n"
     ]
    },
    {
     "data": {
      "text/plain": [
       "array([1.000000e+00, 1.530000e+00, 2.130000e+00, 2.759400e+00,\n",
       "       3.420000e+00, 4.090000e+00, 4.800000e+00, 5.500000e+00,\n",
       "       6.230000e+00, 6.960000e+00, 7.710000e+00, 8.460000e+00,\n",
       "       9.240000e+00, 1.014000e+01, 1.289000e+01, 1.580000e+01,\n",
       "       1.899000e+01, 2.229000e+01, 2.565000e+01, 2.899000e+01,\n",
       "       3.231000e+01, 3.554000e+01, 3.868000e+01, 4.188000e+01,\n",
       "       4.491000e+01, 4.765000e+01, 5.027000e+01, 5.284000e+01,\n",
       "       5.547000e+01, 5.811000e+01, 6.087000e+01, 6.375000e+01,\n",
       "       6.660000e+01, 6.947000e+01, 7.231000e+01, 7.490000e+01,\n",
       "       7.765000e+01, 8.099000e+01, 8.489000e+01, 8.926000e+01,\n",
       "       9.412000e+01, 9.960000e+01, 1.061916e+02, 1.139800e+02,\n",
       "       1.235000e+02, 1.345300e+02, 1.496300e+02, 1.746900e+02,\n",
       "       2.070216e+02, 2.981904e+02, 2.508694e+04])"
      ]
     },
     "execution_count": 10,
     "metadata": {},
     "output_type": "execute_result"
    }
   ],
   "source": [
    "from sklearn.preprocessing import KBinsDiscretizer\n",
    "\n",
    "discretizer = KBinsDiscretizer(\n",
    "    n_bins=50, \n",
    "    encode='onehot', \n",
    "    strategy='quantile'\n",
    ")\n",
    "\n",
    "feature_data = df['amt'].values.reshape(-1, 1)\n",
    "\n",
    "data = discretizer.fit(feature_data)\n",
    "\n",
    "print(\"Bin edges:\")\n",
    "discretizer.bin_edges_[0]\n"
   ]
  },
  {
   "cell_type": "code",
   "execution_count": 24,
   "metadata": {},
   "outputs": [
    {
     "name": "stderr",
     "output_type": "stream",
     "text": [
      "/Users/heifen/Documents/studie/machinelearning/venv/lib/python3.12/site-packages/sklearn/preprocessing/_discretization.py:306: UserWarning: Bins whose width are too small (i.e., <= 1e-8) in feature 0 are removed. Consider decreasing the number of bins.\n",
      "  warnings.warn(\n",
      "/Users/heifen/Documents/studie/machinelearning/venv/lib/python3.12/site-packages/sklearn/preprocessing/_discretization.py:306: UserWarning: Bins whose width are too small (i.e., <= 1e-8) in feature 0 are removed. Consider decreasing the number of bins.\n",
      "  warnings.warn(\n"
     ]
    },
    {
     "name": "stdout",
     "output_type": "stream",
     "text": [
      "Using 10000 rows\n"
     ]
    }
   ],
   "source": [
    "from main import SEQUENCE_LENGTH\n",
    "from model import TransactionFeatureProcessor, create_sequences\n",
    "\n",
    "sequence_length = 100\n",
    "\n",
    "processor = TransactionFeatureProcessor()\n",
    "processor.fit(df)\n",
    "\n",
    "df = df.head(10_000)\n",
    "print(f\"Using {len(df)} rows\")\n",
    "\n",
    "all_X, all_y = [], []\n",
    "for cc_num, group in df.groupby('cc_num'):\n",
    "    X, y = create_sequences(group, sequence_length, processor)\n",
    "    if X is not None and y is not None:\n",
    "        all_X.append(X)\n",
    "        all_y.extend(y)\n",
    "\n"
   ]
  },
  {
   "cell_type": "code",
   "execution_count": 25,
   "metadata": {},
   "outputs": [
    {
     "name": "stderr",
     "output_type": "stream",
     "text": [
      "/Users/heifen/Documents/studie/machinelearning/venv/lib/python3.12/site-packages/sklearn/preprocessing/_discretization.py:306: UserWarning: Bins whose width are too small (i.e., <= 1e-8) in feature 0 are removed. Consider decreasing the number of bins.\n",
      "  warnings.warn(\n",
      "/Users/heifen/Documents/studie/machinelearning/venv/lib/python3.12/site-packages/sklearn/preprocessing/_discretization.py:306: UserWarning: Bins whose width are too small (i.e., <= 1e-8) in feature 0 are removed. Consider decreasing the number of bins.\n",
      "  warnings.warn(\n"
     ]
    },
    {
     "ename": "ValueError",
     "evalue": "too many values to unpack (expected 5)",
     "output_type": "error",
     "traceback": [
      "\u001b[31m---------------------------------------------------------------------------\u001b[39m",
      "\u001b[31mValueError\u001b[39m                                Traceback (most recent call last)",
      "\u001b[36mCell\u001b[39m\u001b[36m \u001b[39m\u001b[32mIn[25]\u001b[39m\u001b[32m, line 4\u001b[39m\n\u001b[32m      1\u001b[39m \u001b[38;5;28;01mfrom\u001b[39;00m\u001b[38;5;250m \u001b[39m\u001b[34;01mmodel\u001b[39;00m\u001b[38;5;250m \u001b[39m\u001b[38;5;28;01mimport\u001b[39;00m prepare_all_sequences\n\u001b[32m----> \u001b[39m\u001b[32m4\u001b[39m X_train, X_test, y_train, y_test, processor = prepare_all_sequences(df, sequence_length)\n",
      "\u001b[31mValueError\u001b[39m: too many values to unpack (expected 5)"
     ]
    }
   ],
   "source": [
    "from model import prepare_all_sequences\n",
    "\n",
    "\n",
    "X_train, X_test, y_train, y_test, processor = prepare_all_sequences(df, sequence_length)"
   ]
  }
 ],
 "metadata": {
  "kernelspec": {
   "display_name": "venv",
   "language": "python",
   "name": "python3"
  },
  "language_info": {
   "codemirror_mode": {
    "name": "ipython",
    "version": 3
   },
   "file_extension": ".py",
   "mimetype": "text/x-python",
   "name": "python",
   "nbconvert_exporter": "python",
   "pygments_lexer": "ipython3",
   "version": "3.12.5"
  }
 },
 "nbformat": 4,
 "nbformat_minor": 2
}
