{
 "cells": [
  {
   "cell_type": "code",
   "execution_count": 1,
   "metadata": {},
   "outputs": [
    {
     "name": "stderr",
     "output_type": "stream",
     "text": [
      "/Users/heifen/Documents/studie/machinelearning/venv/lib/python3.12/site-packages/tqdm/auto.py:21: TqdmWarning: IProgress not found. Please update jupyter and ipywidgets. See https://ipywidgets.readthedocs.io/en/stable/user_install.html\n",
      "  from .autonotebook import tqdm as notebook_tqdm\n"
     ]
    },
    {
     "name": "stdout",
     "output_type": "stream",
     "text": [
      "Loading and preprocessing data...\n",
      "Class distribution:\n",
      "is_fraud\n",
      "0    1289169\n",
      "1       7506\n",
      "Name: count, dtype: int64\n",
      "Fraud percentage: 0.58%\n"
     ]
    }
   ],
   "source": [
    "from main import load_and_preprocess_data\n",
    "\n",
    "df = load_and_preprocess_data()"
   ]
  },
  {
   "cell_type": "code",
   "execution_count": 2,
   "metadata": {},
   "outputs": [
    {
     "name": "stderr",
     "output_type": "stream",
     "text": [
      "WARNING:absl:Compiled the loaded model, but the compiled metrics have yet to be built. `model.compile_metrics` will be empty until you train or evaluate the model.\n"
     ]
    },
    {
     "name": "stdout",
     "output_type": "stream",
     "text": [
      "Loading model from models/lstm_transaction_model.h5...\n",
      "\u001b[1m1/1\u001b[0m \u001b[32m━━━━━━━━━━━━━━━━━━━━\u001b[0m\u001b[37m\u001b[0m \u001b[1m0s\u001b[0m 171ms/step\n",
      "\n",
      "Predicted most likely values for next transaction:\n",
      "---------------------------------------------\n",
      "  amt: {'lower_bound': np.float64(116.59), 'upper_bound': np.float64(126.53), 'avg': np.float64(121.56)}\n",
      "  lat: {'lower_bound': np.float64(36.5422), 'upper_bound': np.float64(37.1935), 'avg': np.float64(36.867850000000004)}\n",
      "  long: {'lower_bound': np.float64(-85.9077), 'upper_bound': np.float64(-84.3246), 'avg': np.float64(-85.11615)}\n",
      "  merch_lat: {'lower_bound': np.float64(37.2582675), 'upper_bound': np.float64(37.78884233333333), 'avg': np.float64(37.52355491666667)}\n",
      "  merch_long: {'lower_bound': np.float64(-82.78462166666667), 'upper_bound': np.float64(-82.1001494), 'avg': np.float64(-82.44238553333334)}\n",
      "  hour: {'avg': np.int64(13)}\n",
      "  day: {'avg': np.int64(26)}\n",
      "  month: {'avg': np.int64(6)}\n",
      "  dayofweek: {'avg': np.int64(5)}\n",
      "  merchant_encoded: {'avg': np.int64(561)}\n",
      "  category_encoded: {'avg': np.int64(2)}\n",
      "\n",
      "Real values:\n",
      "---------------------------------------------\n",
      "  amt: 60.48\n",
      "  lat: 36.0788\n",
      "  long: -81.1781\n",
      "  merch_lat: 35.376104\n",
      "  merch_long: -82.162645\n",
      "  hour: 6\n",
      "  day: 21\n",
      "  month: 6\n",
      "  dayofweek: 6\n",
      "  merchant_encoded: 281\n",
      "  category_encoded: 8\n"
     ]
    }
   ],
   "source": [
    "from model import load_lstm_model\n",
    "from predict import predict_and_analyze\n",
    "from main import SEQUENCE_LENGTH\n",
    "\n",
    "# sample_cc_num = df['cc_num'].iloc[0]\n",
    "sample_cc_num = 2703186189652095\n",
    "user_transactions = df[df['cc_num'] == sample_cc_num]\n",
    "\n",
    "last_transaction = user_transactions.iloc[-1].to_dict()\n",
    "\n",
    "lstm_model, processor = load_lstm_model()\n",
    "\n",
    "results = predict_and_analyze(\n",
    "    lstm_model,\n",
    "    user_transactions.iloc[:-1],  # Use all but last transaction\n",
    "    SEQUENCE_LENGTH,\n",
    "    processor,\n",
    "    actual_transaction=last_transaction\n",
    ")\n",
    "\n",
    "print(\"\\nPredicted most likely values for next transaction:\")\n",
    "print(\"---------------------------------------------\")\n",
    "for feature, value in results['prediction']['most_likely_values'].items():\n",
    "    print(f\"  {feature}: {value}\")\n",
    "            \n",
    "\n",
    "print('\\nReal values:')\n",
    "print(\"---------------------------------------------\")\n",
    "for feature in results['prediction']['most_likely_values'].keys():\n",
    "    print(f\"  {feature}: {last_transaction[feature]}\")\n",
    "\n"
   ]
  }
 ],
 "metadata": {
  "kernelspec": {
   "display_name": "venv",
   "language": "python",
   "name": "python3"
  },
  "language_info": {
   "codemirror_mode": {
    "name": "ipython",
    "version": 3
   },
   "file_extension": ".py",
   "mimetype": "text/x-python",
   "name": "python",
   "nbconvert_exporter": "python",
   "pygments_lexer": "ipython3",
   "version": "3.12.5"
  }
 },
 "nbformat": 4,
 "nbformat_minor": 2
}
