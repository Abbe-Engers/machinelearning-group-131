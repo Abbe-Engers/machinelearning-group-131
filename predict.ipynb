{
 "cells": [
  {
   "cell_type": "code",
   "execution_count": 4,
   "metadata": {},
   "outputs": [
    {
     "name": "stdout",
     "output_type": "stream",
     "text": [
      "Loading and preprocessing data...\n",
      "Class distribution:\n",
      "is_fraud\n",
      "0    1289169\n",
      "1       7506\n",
      "Name: count, dtype: int64\n",
      "Fraud percentage: 0.58%\n"
     ]
    }
   ],
   "source": [
    "from main import load_and_preprocess_data\n",
    "\n",
    "df = load_and_preprocess_data(1)"
   ]
  },
  {
   "cell_type": "code",
   "execution_count": 7,
   "metadata": {},
   "outputs": [
    {
     "name": "stderr",
     "output_type": "stream",
     "text": [
      "WARNING:absl:Compiled the loaded model, but the compiled metrics have yet to be built. `model.compile_metrics` will be empty until you train or evaluate the model.\n"
     ]
    },
    {
     "name": "stdout",
     "output_type": "stream",
     "text": [
      "Loading model from models/lstm_transaction_model.h5...\n",
      "\u001b[1m1/1\u001b[0m \u001b[32m━━━━━━━━━━━━━━━━━━━━\u001b[0m\u001b[37m\u001b[0m \u001b[1m0s\u001b[0m 200ms/step\n",
      "\n",
      "Predicted most likely values for next transaction:\n",
      "---------------------------------------------\n",
      "  amt: {'lower_bound': np.float64(6.17), 'upper_bound': np.float64(6.93), 'avg': np.float64(6.55)}\n",
      "  lat: {'lower_bound': np.float64(42.6315), 'upper_bound': np.float64(43.033), 'avg': np.float64(42.83225)}\n",
      "  long: {'lower_bound': np.float64(-112.4777), 'upper_bound': np.float64(-105.6933), 'avg': np.float64(-109.0855)}\n",
      "  merch_lat: {'lower_bound': np.float64(42.71336933333333), 'upper_bound': np.float64(43.385511466666664), 'avg': np.float64(43.049440399999995)}\n",
      "  merch_long: {'lower_bound': np.float64(-111.96667829999998), 'upper_bound': np.float64(-105.2959852), 'avg': np.float64(-108.63133174999999)}\n",
      "  hour: {'avg': np.int64(12)}\n",
      "  merchant_encoded: {'avg': np.int64(508)}\n",
      "  category_encoded: {'avg': np.int64(2)}\n",
      "\n",
      "Real values:\n",
      "---------------------------------------------\n",
      "  amt: 61.93\n",
      "  lat: 43.0048\n",
      "  long: -108.8964\n",
      "  merch_lat: 43.765609000000005\n",
      "  merch_long: -109.0138\n",
      "  hour: 8\n",
      "  merchant_encoded: 389\n",
      "  category_encoded: 2\n",
      "\n",
      "Feature probability:\n",
      "---------------------------------------------\n",
      "  amt: 0.0244924146682024\n",
      "  lat: 0.9999936819076538\n",
      "  long: 0.9999910593032837\n",
      "  merch_lat: 0.32116901874542236\n",
      "  merch_long: 0.9999016523361206\n",
      "  hour: 0.04075302556157112\n",
      "  day: 0.49149760603904724\n",
      "  month: 0.9914813041687012\n",
      "  dayofweek: 0.39428040385246277\n",
      "  merchant_encoded: 0.006769832223653793\n",
      "  category_encoded: 0.19683898985385895\n",
      "\n",
      "Total probability:\n",
      "---------------------------------------------\n",
      "8.206839e-08\n"
     ]
    }
   ],
   "source": [
    "from model import load_lstm_model\n",
    "from predict import predict_and_analyze\n",
    "from main import SEQUENCE_LENGTH\n",
    "\n",
    "sample_cc_num = df[df['is_fraud'] == 1]['cc_num'].iloc[0]\n",
    "user_transactions = df[df['cc_num'] == sample_cc_num]\n",
    "\n",
    "user_non_fraud_transactions = user_transactions[user_transactions['is_fraud'] == 0].iloc[:-1]\n",
    "user_fraud_transactions = user_transactions[user_transactions['is_fraud'] == 1]\n",
    "\n",
    "last_transaction = user_transactions.iloc[-1].to_dict()\n",
    "\n",
    "lstm_model, processor = load_lstm_model()\n",
    "\n",
    "results = predict_and_analyze(\n",
    "    lstm_model,\n",
    "    user_non_fraud_transactions,\n",
    "    SEQUENCE_LENGTH,\n",
    "    processor,\n",
    "    actual_transaction=last_transaction,\n",
    "    fraud_transactions=user_fraud_transactions\n",
    ")\n",
    "\n",
    "print(\"\\nPredicted most likely values for next transaction:\")\n",
    "print(\"---------------------------------------------\")\n",
    "for feature, value in results['prediction']['most_likely_values'].items():\n",
    "    print(f\"  {feature}: {value}\")\n",
    "            \n",
    "\n",
    "print('\\nReal values:')\n",
    "print(\"---------------------------------------------\")\n",
    "for feature in results['prediction']['most_likely_values'].keys():\n",
    "    print(f\"  {feature}: {last_transaction[feature]}\")\n",
    "\n",
    "print('\\nFeature probability:')\n",
    "print(\"---------------------------------------------\")\n",
    "for feature, probability in results['feature_probabilities'].items():\n",
    "    print(f\"  {feature}: {probability}\")\n",
    "\n",
    "print('\\nTotal probability:')\n",
    "print(\"---------------------------------------------\")\n",
    "print(results['total_probability'])"
   ]
  }
 ],
 "metadata": {
  "kernelspec": {
   "display_name": "venv",
   "language": "python",
   "name": "python3"
  },
  "language_info": {
   "codemirror_mode": {
    "name": "ipython",
    "version": 3
   },
   "file_extension": ".py",
   "mimetype": "text/x-python",
   "name": "python",
   "nbconvert_exporter": "python",
   "pygments_lexer": "ipython3",
   "version": "3.12.5"
  }
 },
 "nbformat": 4,
 "nbformat_minor": 2
}
