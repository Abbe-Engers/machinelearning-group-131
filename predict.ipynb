{
 "cells": [
  {
   "cell_type": "code",
   "execution_count": 4,
   "metadata": {},
   "outputs": [
    {
     "name": "stdout",
     "output_type": "stream",
     "text": [
      "Loading and preprocessing data...\n",
      "Class distribution:\n",
      "is_fraud\n",
      "0    1289169\n",
      "1       7506\n",
      "Name: count, dtype: int64\n",
      "Fraud percentage: 0.58%\n"
     ]
    }
   ],
   "source": [
    "from main import load_and_preprocess_data\n",
    "\n",
    "df, encoders = load_and_preprocess_data()"
   ]
  },
  {
   "cell_type": "code",
   "execution_count": 5,
   "metadata": {},
   "outputs": [
    {
     "name": "stderr",
     "output_type": "stream",
     "text": [
      "WARNING:absl:Compiled the loaded model, but the compiled metrics have yet to be built. `model.compile_metrics` will be empty until you train or evaluate the model.\n"
     ]
    },
    {
     "name": "stdout",
     "output_type": "stream",
     "text": [
      "Loading model from lstm_transaction_model.h5...\n",
      "\u001b[1m1/1\u001b[0m \u001b[32m━━━━━━━━━━━━━━━━━━━━\u001b[0m\u001b[37m\u001b[0m \u001b[1m0s\u001b[0m 142ms/step\n"
     ]
    },
    {
     "data": {
      "text/html": [
       "<div>\n",
       "<style scoped>\n",
       "    .dataframe tbody tr th:only-of-type {\n",
       "        vertical-align: middle;\n",
       "    }\n",
       "\n",
       "    .dataframe tbody tr th {\n",
       "        vertical-align: top;\n",
       "    }\n",
       "\n",
       "    .dataframe thead th {\n",
       "        text-align: right;\n",
       "    }\n",
       "</style>\n",
       "<table border=\"1\" class=\"dataframe\">\n",
       "  <thead>\n",
       "    <tr style=\"text-align: right;\">\n",
       "      <th></th>\n",
       "      <th>amt</th>\n",
       "      <th>hour</th>\n",
       "      <th>day</th>\n",
       "      <th>month</th>\n",
       "      <th>dayofweek</th>\n",
       "      <th>merchant_encoded</th>\n",
       "      <th>category_encoded</th>\n",
       "      <th>lat</th>\n",
       "      <th>long</th>\n",
       "      <th>merch_lat</th>\n",
       "      <th>merch_long</th>\n",
       "      <th>is_fraud</th>\n",
       "      <th>merchant</th>\n",
       "      <th>category</th>\n",
       "    </tr>\n",
       "  </thead>\n",
       "  <tbody>\n",
       "    <tr>\n",
       "      <th>0</th>\n",
       "      <td>65.624756</td>\n",
       "      <td>13.099962</td>\n",
       "      <td>20.686098</td>\n",
       "      <td>6.10028</td>\n",
       "      <td>5.258587</td>\n",
       "      <td>332.718079</td>\n",
       "      <td>6.363268</td>\n",
       "      <td>42.276993</td>\n",
       "      <td>-109.734459</td>\n",
       "      <td>42.313931</td>\n",
       "      <td>-109.741455</td>\n",
       "      <td>0</td>\n",
       "      <td>fraud_Koss, Hansen and Lueilwitz</td>\n",
       "      <td>home</td>\n",
       "    </tr>\n",
       "  </tbody>\n",
       "</table>\n",
       "</div>"
      ],
      "text/plain": [
       "         amt       hour        day    month dayofweek merchant_encoded  \\\n",
       "0  65.624756  13.099962  20.686098  6.10028  5.258587       332.718079   \n",
       "\n",
       "  category_encoded        lat        long  merch_lat  merch_long  is_fraud  \\\n",
       "0         6.363268  42.276993 -109.734459  42.313931 -109.741455         0   \n",
       "\n",
       "                           merchant category  \n",
       "0  fraud_Koss, Hansen and Lueilwitz     home  "
      ]
     },
     "execution_count": 5,
     "metadata": {},
     "output_type": "execute_result"
    }
   ],
   "source": [
    "from model import load_lstm_model\n",
    "from predict import predict_next_transaction\n",
    "\n",
    "cc_num = df['cc_num'].iloc[0]\n",
    "\n",
    "user_transactions = df[df['cc_num'] == cc_num]\n",
    "\n",
    "sequence_length = 10\n",
    "\n",
    "lstm_model, scaler, encoders = load_lstm_model()\n",
    "\n",
    "next_transaction = predict_next_transaction(\n",
    "    lstm_model, user_transactions, sequence_length, scaler, df.columns, encoders\n",
    ")\n",
    "\n",
    "next_transaction"
   ]
  }
 ],
 "metadata": {
  "kernelspec": {
   "display_name": "venv",
   "language": "python",
   "name": "python3"
  },
  "language_info": {
   "codemirror_mode": {
    "name": "ipython",
    "version": 3
   },
   "file_extension": ".py",
   "mimetype": "text/x-python",
   "name": "python",
   "nbconvert_exporter": "python",
   "pygments_lexer": "ipython3",
   "version": "3.12.5"
  }
 },
 "nbformat": 4,
 "nbformat_minor": 2
}
