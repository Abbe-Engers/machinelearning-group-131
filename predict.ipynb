{
 "cells": [
  {
   "cell_type": "code",
   "execution_count": 5,
   "metadata": {},
   "outputs": [
    {
     "name": "stdout",
     "output_type": "stream",
     "text": [
      "Loading and preprocessing data...\n",
      "Class distribution:\n",
      "is_fraud\n",
      "0    1289169\n",
      "1       7506\n",
      "Name: count, dtype: int64\n",
      "Fraud percentage: 0.58%\n"
     ]
    }
   ],
   "source": [
    "from main import load_and_preprocess_data\n",
    "\n",
    "df, encoders = load_and_preprocess_data()"
   ]
  },
  {
   "cell_type": "code",
   "execution_count": null,
   "metadata": {},
   "outputs": [
    {
     "name": "stdout",
     "output_type": "stream",
     "text": [
      "Loading model from lstm_transaction_model.h5...\n",
      "Error: Model file lstm_transaction_model.h5 not found.\n"
     ]
    },
    {
     "ename": "TypeError",
     "evalue": "cannot unpack non-iterable NoneType object",
     "output_type": "error",
     "traceback": [
      "\u001b[31m---------------------------------------------------------------------------\u001b[39m",
      "\u001b[31mTypeError\u001b[39m                                 Traceback (most recent call last)",
      "\u001b[36mCell\u001b[39m\u001b[36m \u001b[39m\u001b[32mIn[6]\u001b[39m\u001b[32m, line 10\u001b[39m\n\u001b[32m      6\u001b[39m user_transactions = df[df[\u001b[33m'\u001b[39m\u001b[33mcc_num\u001b[39m\u001b[33m'\u001b[39m] == cc_num]\n\u001b[32m      8\u001b[39m sequence_length = \u001b[32m10\u001b[39m\n\u001b[32m---> \u001b[39m\u001b[32m10\u001b[39m lstm_model, scaler, encoders = load_lstm_model()\n\u001b[32m     12\u001b[39m next_transaction = predict_next_transaction(\n\u001b[32m     13\u001b[39m     lstm_model, user_transactions, sequence_length, scaler, df.columns, encoders\n\u001b[32m     14\u001b[39m )\n\u001b[32m     16\u001b[39m next_transaction\n",
      "\u001b[31mTypeError\u001b[39m: cannot unpack non-iterable NoneType object"
     ]
    }
   ],
   "source": [
    "from model import load_lstm_model\n",
    "from predict import predict_next_transaction\n",
    "\n",
    "cc_num = df['cc_num'].iloc[0]\n",
    "\n",
    "user_transactions = df[df['cc_num'] == cc_num]\n",
    "\n",
    "sequence_length = 10\n",
    "\n",
    "lstm_model, scaler, encoders = load_lstm_model()\n",
    "\n",
    "next_transaction = predict_next_transaction(\n",
    "    lstm_model, user_transactions, sequence_length, scaler, df.columns, encoders\n",
    ")\n",
    "\n",
    "next_transaction"
   ]
  }
 ],
 "metadata": {
  "kernelspec": {
   "display_name": "venv",
   "language": "python",
   "name": "python3"
  },
  "language_info": {
   "codemirror_mode": {
    "name": "ipython",
    "version": 3
   },
   "file_extension": ".py",
   "mimetype": "text/x-python",
   "name": "python",
   "nbconvert_exporter": "python",
   "pygments_lexer": "ipython3",
   "version": "3.12.5"
  }
 },
 "nbformat": 4,
 "nbformat_minor": 2
}
